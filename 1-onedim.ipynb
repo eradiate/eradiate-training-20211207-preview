{
 "cells": [
  {
   "cell_type": "markdown",
   "metadata": {},
   "source": [
    "## Atmosphere demo notebook"
   ]
  },
  {
   "cell_type": "markdown",
   "metadata": {},
   "source": [
    "This notebook contains sample cases for the Eradiate preview session of Dec 7th 2021. In this tutorial, we introduce the capabilities of Eradiate's 1D model. We will explore the capabilities and interfaces of different objects used to construct a scene, simulate radiative transfer and visualise results."
   ]
  },
  {
   "cell_type": "code",
   "execution_count": null,
   "metadata": {},
   "outputs": [],
   "source": [
    "# We load the Rich notebook extension for improved object inspection\n",
    "%load_ext rich\n",
    "\n",
    "# We start with importing the top-level module\n",
    "import eradiate\n",
    "\n",
    "# We'll use the correlated k-distribution mode in double precision\n",
    "eradiate.set_mode(\"ckd_double\")\n",
    "\n",
    "# We activate a few convenient presets\n",
    "eradiate.notebook.install()\n",
    "eradiate.plot.set_style()"
   ]
  },
  {
   "cell_type": "markdown",
   "metadata": {},
   "source": [
    "Our scene consists of a one-dimensional atmosphere model and a uniform reflecting surface. Since we want results for a given instrument band, we selected the CKD mode. It implements the correlated k-distribution absorption model, which consistutes a compromise between correctness and speed. CKD requirements are often not very well fulfilled, but it is still more accurate than a grey band model and (much) faster than monochromatic runs.\n",
    "\n",
    "Let's start by configuring the surface. We'll use a Lambertian surface with default parameters."
   ]
  },
  {
   "cell_type": "code",
   "execution_count": null,
   "metadata": {},
   "outputs": [],
   "source": [
    "surface = eradiate.scenes.surface.LambertianSurface()\n",
    "surface"
   ]
  },
  {
   "cell_type": "markdown",
   "metadata": {},
   "source": [
    "Now, let's add a molecular atmosphere on top of it. Eradiate currently provides pre-computed CKD absorption data for the AFGL 1986 atmosphere model with the so-called *U.S. Standard* thermophysical property profile. We'll therefore create an atmosphere object leveraging this data."
   ]
  },
  {
   "cell_type": "code",
   "execution_count": null,
   "metadata": {},
   "outputs": [],
   "source": [
    "atmosphere = eradiate.scenes.atmosphere.MolecularAtmosphere.afgl_1986()\n",
    "atmosphere"
   ]
  },
  {
   "cell_type": "markdown",
   "metadata": {},
   "source": [
    "We also have to illuminate. Eradiate simulates Sun illumination using a perfectly directional model and ships with a number of Solar irradiance spectra. Although we will stick with the default spectrum (Thuillier, 2003), we could select another one."
   ]
  },
  {
   "cell_type": "markdown",
   "metadata": {},
   "source": [
    "- Water and ozone rescaling\n",
    "- Aerosol configuration"
   ]
  },
  {
   "cell_type": "markdown",
   "metadata": {},
   "source": []
  }
 ],
 "metadata": {
  "interpreter": {
   "hash": "98e4a7c18623e04ff827753458f7b2262eaa88e7eab4d862331048de44ea98bf"
  },
  "kernelspec": {
   "display_name": "Python 3.7.12 64-bit ('eradiate': conda)",
   "language": "python",
   "name": "python3"
  },
  "language_info": {
   "codemirror_mode": {
    "name": "ipython",
    "version": 3
   },
   "file_extension": ".py",
   "mimetype": "text/x-python",
   "name": "python",
   "nbconvert_exporter": "python",
   "pygments_lexer": "ipython3",
   "version": "3.7.12"
  }
 },
 "nbformat": 4,
 "nbformat_minor": 2
}
